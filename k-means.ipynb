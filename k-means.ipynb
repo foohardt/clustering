{
 "cells": [
  {
   "cell_type": "code",
   "execution_count": 41,
   "id": "99a5268e",
   "metadata": {},
   "outputs": [],
   "source": [
    "import pandas as pd\n",
    "import numpy as np\n",
    "from sklearn.cluster import KMeans\n",
    "from sklearn import datasets\n",
    "import matplotlib.pyplot as plt"
   ]
  },
  {
   "cell_type": "code",
   "execution_count": 42,
   "id": "a78fc42f",
   "metadata": {},
   "outputs": [
    {
     "data": {
      "text/html": [
       "<div>\n",
       "<style scoped>\n",
       "    .dataframe tbody tr th:only-of-type {\n",
       "        vertical-align: middle;\n",
       "    }\n",
       "\n",
       "    .dataframe tbody tr th {\n",
       "        vertical-align: top;\n",
       "    }\n",
       "\n",
       "    .dataframe thead th {\n",
       "        text-align: right;\n",
       "    }\n",
       "</style>\n",
       "<table border=\"1\" class=\"dataframe\">\n",
       "  <thead>\n",
       "    <tr style=\"text-align: right;\">\n",
       "      <th></th>\n",
       "      <th>V1</th>\n",
       "      <th>V2</th>\n",
       "      <th>V3</th>\n",
       "    </tr>\n",
       "  </thead>\n",
       "  <tbody>\n",
       "    <tr>\n",
       "      <th>0</th>\n",
       "      <td>-5.340236</td>\n",
       "      <td>4.747246</td>\n",
       "      <td>3.823326</td>\n",
       "    </tr>\n",
       "    <tr>\n",
       "      <th>1</th>\n",
       "      <td>-9.587065</td>\n",
       "      <td>-3.434466</td>\n",
       "      <td>9.701839</td>\n",
       "    </tr>\n",
       "    <tr>\n",
       "      <th>2</th>\n",
       "      <td>-8.385012</td>\n",
       "      <td>-3.902794</td>\n",
       "      <td>8.514620</td>\n",
       "    </tr>\n",
       "    <tr>\n",
       "      <th>3</th>\n",
       "      <td>5.708226</td>\n",
       "      <td>2.658575</td>\n",
       "      <td>5.404482</td>\n",
       "    </tr>\n",
       "    <tr>\n",
       "      <th>4</th>\n",
       "      <td>-7.431665</td>\n",
       "      <td>-4.390251</td>\n",
       "      <td>9.003216</td>\n",
       "    </tr>\n",
       "  </tbody>\n",
       "</table>\n",
       "</div>"
      ],
      "text/plain": [
       "         V1        V2        V3\n",
       "0 -5.340236  4.747246  3.823326\n",
       "1 -9.587065 -3.434466  9.701839\n",
       "2 -8.385012 -3.902794  8.514620\n",
       "3  5.708226  2.658575  5.404482\n",
       "4 -7.431665 -4.390251  9.003216"
      ]
     },
     "execution_count": 42,
     "metadata": {},
     "output_type": "execute_result"
    }
   ],
   "source": [
    "# Load edlich data and print head\n",
    "data = pd.read_csv(\"edlich-kmeans-A0.csv\") \n",
    "data.head()"
   ]
  },
  {
   "cell_type": "code",
   "execution_count": 43,
   "id": "3d2dca58",
   "metadata": {},
   "outputs": [
    {
     "data": {
      "image/png": "[encoded data removed]",
      "text/plain": [
       "<Figure size 432x288 with 1 Axes>"
      ]
     },
     "metadata": {
      "needs_background": "light"
     },
     "output_type": "display_data"
    }
   ],
   "source": [
    "# Print scatterplot to visualize dataset. As result we observe 6 clusters; k = 6 \n",
    "ax = data.plot.scatter(x=\"V1\", y=\"V2\")"
   ]
  },
  {
   "cell_type": "code",
   "execution_count": 44,
   "id": "46a34ad1",
   "metadata": {},
   "outputs": [
    {
     "data": {
      "image/png": "[encoded data removed]",
      "text/plain": [
       "<Figure size 432x288 with 1 Axes>"
      ]
     },
     "metadata": {
      "needs_background": "light"
     },
     "output_type": "display_data"
    }
   ],
   "source": [
    "# Apply elbow method on dataset and print visualization to verify observation of k = 6\n",
    "X = data\n",
    "def cluster_variance(n):\n",
    "    variances = []\n",
    "    kmeans = []\n",
    "    outputs = []\n",
    "    K = [i for i in range(1, n + 1)]    \n",
    "    for i in range(1, n + 1):\n",
    "        variance = 0\n",
    "        model = KMeans(n_clusters = i, random_state = 82, verbose = 0).fit(X)\n",
    "        kmeans.append(model)\n",
    "        variances.append(model.inertia_)\n",
    "    return variances,K,n\n",
    "\n",
    "variances,K,n = cluster_variance(10)\n",
    "\n",
    "plt.plot(K,variances)\n",
    "plt.ylabel(\"Inertia ( Total Distance )\")\n",
    "plt.xlabel(\"K Value\")\n",
    "plt.xticks([i for i in range(1,n+1)])\n",
    "plt.show()"
   ]
  },
  {
   "cell_type": "markdown",
   "id": "07706737",
   "metadata": {},
   "source": [
    "As result of dataset visualization and apliance of elbow method we find out that best k is 6"
   ]
  },
  {
   "cell_type": "code",
   "execution_count": 45,
   "id": "54f87b94",
   "metadata": {},
   "outputs": [],
   "source": [
    "# Apply KMeans on dataset with k = 6"
   ]
  },
  {
   "cell_type": "code",
   "execution_count": 46,
   "id": "e252c9e9",
   "metadata": {},
   "outputs": [],
   "source": [
    "kmeans = KMeans(n_clusters=6)\n",
    "kmeans = kmeans.fit(data)\n",
    "# C = coordinates of centers\n",
    "C = kmeans.cluster_centers_"
   ]
  },
  {
   "cell_type": "code",
   "execution_count": 47,
   "id": "03a33fb2",
   "metadata": {},
   "outputs": [
    {
     "name": "stdout",
     "output_type": "stream",
     "text": [
      "          V1         V2         V3  cluster\n",
      "0  -5.340236   4.747246   3.823326        0\n",
      "1  -9.587065  -3.434466   9.701839        3\n",
      "2  -8.385012  -3.902794   8.514620        3\n",
      "3   5.708226   2.658575   5.404482        1\n",
      "4  -7.431665  -4.390251   9.003216        3\n",
      "..       ...        ...        ...      ...\n",
      "95  5.240474   2.983800   5.104915        1\n",
      "96 -1.675543   3.780111  -8.060940        4\n",
      "97  2.979751  10.772783 -10.093143        2\n",
      "98 -5.154519   5.976515   2.794622        0\n",
      "99 -4.878509   5.096635   5.659783        0\n",
      "\n",
      "[100 rows x 4 columns]\n"
     ]
    }
   ],
   "source": [
    "# Add cluster to points in dataset and print result\n",
    "data['cluster'] = kmeans.labels_\n",
    "print(data)"
   ]
  }
 ],
 "metadata": {
  "kernelspec": {
   "display_name": "Python 3 (ipykernel)",
   "language": "python",
   "name": "python3"
  },
  "language_info": {
   "codemirror_mode": {
    "name": "ipython",
    "version": 3
   },
   "file_extension": ".py",
   "mimetype": "text/x-python",
   "name": "python",
   "nbconvert_exporter": "python",
   "pygments_lexer": "ipython3",
   "version": "3.8.10"
  }
 },
 "nbformat": 4,
 "nbformat_minor": 5
}
